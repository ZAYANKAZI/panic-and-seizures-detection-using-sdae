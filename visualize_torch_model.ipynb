{
 "cells": [
  {
   "cell_type": "code",
   "execution_count": 3,
   "metadata": {},
   "outputs": [
    {
     "name": "stdout",
     "output_type": "stream",
     "text": [
      "Collecting onnx\n",
      "  Downloading onnx-1.14.0-cp310-cp310-win_amd64.whl (13.3 MB)\n",
      "     ---------------------------------------- 13.3/13.3 MB 3.4 MB/s eta 0:00:00\n",
      "Collecting onnxruntime\n",
      "  Downloading onnxruntime-1.15.1-cp310-cp310-win_amd64.whl (6.7 MB)\n",
      "     ---------------------------------------- 6.7/6.7 MB 3.7 MB/s eta 0:00:00\n",
      "Requirement already satisfied: numpy in c:\\users\\kazis\\appdata\\local\\programs\\python\\python310\\lib\\site-packages (from onnx) (1.23.3)\n",
      "Requirement already satisfied: protobuf>=3.20.2 in c:\\users\\kazis\\appdata\\local\\programs\\python\\python310\\lib\\site-packages (from onnx) (4.22.3)\n",
      "Requirement already satisfied: typing-extensions>=3.6.2.1 in c:\\users\\kazis\\appdata\\local\\programs\\python\\python310\\lib\\site-packages (from onnx) (4.5.0)\n",
      "Requirement already satisfied: packaging in c:\\users\\kazis\\appdata\\roaming\\python\\python310\\site-packages (from onnxruntime) (21.3)\n",
      "Collecting coloredlogs\n",
      "  Downloading coloredlogs-15.0.1-py2.py3-none-any.whl (46 kB)\n",
      "     ---------------------------------------- 46.0/46.0 kB 2.4 MB/s eta 0:00:00\n",
      "Requirement already satisfied: sympy in c:\\users\\kazis\\appdata\\local\\programs\\python\\python310\\lib\\site-packages (from onnxruntime) (1.11.1)\n",
      "Requirement already satisfied: flatbuffers in c:\\users\\kazis\\appdata\\local\\programs\\python\\python310\\lib\\site-packages (from onnxruntime) (23.3.3)\n",
      "Collecting humanfriendly>=9.1\n",
      "  Downloading humanfriendly-10.0-py2.py3-none-any.whl (86 kB)\n",
      "     ---------------------------------------- 86.8/86.8 kB 4.8 MB/s eta 0:00:00\n",
      "Requirement already satisfied: pyparsing!=3.0.5,>=2.0.2 in c:\\users\\kazis\\appdata\\roaming\\python\\python310\\site-packages (from packaging->onnxruntime) (3.0.9)\n",
      "Requirement already satisfied: mpmath>=0.19 in c:\\users\\kazis\\appdata\\local\\programs\\python\\python310\\lib\\site-packages (from sympy->onnxruntime) (1.2.1)\n",
      "Collecting pyreadline3\n",
      "  Downloading pyreadline3-3.4.1-py3-none-any.whl (95 kB)\n",
      "     ---------------------------------------- 95.2/95.2 kB 5.3 MB/s eta 0:00:00\n",
      "Installing collected packages: pyreadline3, onnx, humanfriendly, coloredlogs, onnxruntime\n",
      "Successfully installed coloredlogs-15.0.1 humanfriendly-10.0 onnx-1.14.0 onnxruntime-1.15.1 pyreadline3-3.4.1\n",
      "Note: you may need to restart the kernel to use updated packages.\n"
     ]
    },
    {
     "name": "stderr",
     "output_type": "stream",
     "text": [
      "\n",
      "[notice] A new release of pip available: 22.2.2 -> 23.2.1\n",
      "[notice] To update, run: python.exe -m pip install --upgrade pip\n"
     ]
    }
   ],
   "source": [
    "%pip install onnx onnxruntime"
   ]
  },
  {
   "cell_type": "code",
   "execution_count": 4,
   "metadata": {},
   "outputs": [],
   "source": [
    "import torch\n",
    "from torch import nn\n",
    "import onnxruntime as onnxrt\n",
    "import sdae, sdae_1, sdae_2\n",
    "\n",
    "LR = 1e-3\n",
    "WEIGHT_DECAY = 1e-5\n",
    "LOSS_FUNC = nn.MSELoss()\n",
    "IN_CHANNELS = 3\n",
    "\n",
    "proper_model = sdae.StackedDenoisingAutoencoder(IN_CHANNELS, LOSS_FUNC, LR, WEIGHT_DECAY)\n",
    "overfit_model = sdae_1.StackedDenoisingAutoencoder(IN_CHANNELS, LOSS_FUNC, LR, WEIGHT_DECAY)\n",
    "underfit_model = sdae_2.StackedDenoisingAutoencoder(IN_CHANNELS, LOSS_FUNC, LR, WEIGHT_DECAY)"
   ]
  },
  {
   "cell_type": "code",
   "execution_count": 7,
   "metadata": {},
   "outputs": [
    {
     "data": {
      "text/plain": [
       "StackedDenoisingAutoencoder(\n",
       "  (dae_1): DenoisingAutoencoder(\n",
       "    (encoder): Sequential(\n",
       "      (0): Conv2d(3, 32, kernel_size=(3, 3), stride=(1, 1), padding=(1, 1), bias=False)\n",
       "      (1): BatchNorm2d(32, eps=1e-05, momentum=0.1, affine=True, track_running_stats=True)\n",
       "      (2): ReLU()\n",
       "      (3): Conv2d(32, 32, kernel_size=(3, 3), stride=(2, 2), padding=(1, 1))\n",
       "      (4): ReLU()\n",
       "    )\n",
       "    (decoder): Sequential(\n",
       "      (0): ConvTranspose2d(32, 3, kernel_size=(3, 3), stride=(2, 2), padding=(1, 1), output_padding=(1, 1))\n",
       "      (1): ReLU()\n",
       "    )\n",
       "    (criterion): MSELoss()\n",
       "  )\n",
       "  (dae_2): DenoisingAutoencoder(\n",
       "    (encoder): Sequential(\n",
       "      (0): Conv2d(32, 64, kernel_size=(3, 3), stride=(1, 1), padding=(1, 1), bias=False)\n",
       "      (1): BatchNorm2d(64, eps=1e-05, momentum=0.1, affine=True, track_running_stats=True)\n",
       "      (2): ReLU()\n",
       "      (3): Conv2d(64, 64, kernel_size=(3, 3), stride=(2, 2), padding=(1, 1))\n",
       "      (4): ReLU()\n",
       "    )\n",
       "    (decoder): Sequential(\n",
       "      (0): ConvTranspose2d(64, 32, kernel_size=(3, 3), stride=(2, 2), padding=(1, 1), output_padding=(1, 1))\n",
       "      (1): ReLU()\n",
       "    )\n",
       "    (criterion): MSELoss()\n",
       "  )\n",
       "  (dae_3): DenoisingAutoencoder(\n",
       "    (encoder): Sequential(\n",
       "      (0): Conv2d(64, 128, kernel_size=(3, 3), stride=(1, 1), padding=(1, 1), bias=False)\n",
       "      (1): BatchNorm2d(128, eps=1e-05, momentum=0.1, affine=True, track_running_stats=True)\n",
       "      (2): ReLU()\n",
       "      (3): Conv2d(128, 128, kernel_size=(3, 3), stride=(2, 2), padding=(1, 1))\n",
       "      (4): ReLU()\n",
       "    )\n",
       "    (decoder): Sequential(\n",
       "      (0): ConvTranspose2d(128, 64, kernel_size=(3, 3), stride=(2, 2), padding=(1, 1), output_padding=(1, 1))\n",
       "      (1): ReLU()\n",
       "    )\n",
       "    (criterion): MSELoss()\n",
       "  )\n",
       "  (dae_4): DenoisingAutoencoder(\n",
       "    (encoder): Sequential(\n",
       "      (0): Conv2d(128, 256, kernel_size=(3, 3), stride=(1, 1), padding=(1, 1), bias=False)\n",
       "      (1): BatchNorm2d(256, eps=1e-05, momentum=0.1, affine=True, track_running_stats=True)\n",
       "      (2): ReLU()\n",
       "      (3): Conv2d(256, 256, kernel_size=(3, 3), stride=(2, 2), padding=(1, 1))\n",
       "      (4): ReLU()\n",
       "    )\n",
       "    (decoder): Sequential(\n",
       "      (0): ConvTranspose2d(256, 128, kernel_size=(3, 3), stride=(2, 2), padding=(1, 1), output_padding=(1, 1))\n",
       "      (1): ReLU()\n",
       "    )\n",
       "    (criterion): MSELoss()\n",
       "  )\n",
       "  (dae_5): DenoisingAutoencoder(\n",
       "    (encoder): Sequential(\n",
       "      (0): Conv2d(256, 512, kernel_size=(3, 3), stride=(1, 1), padding=(1, 1), bias=False)\n",
       "      (1): BatchNorm2d(512, eps=1e-05, momentum=0.1, affine=True, track_running_stats=True)\n",
       "      (2): ReLU()\n",
       "      (3): Conv2d(512, 512, kernel_size=(3, 3), stride=(2, 2), padding=(1, 1))\n",
       "      (4): ReLU()\n",
       "    )\n",
       "    (decoder): Sequential(\n",
       "      (0): ConvTranspose2d(512, 256, kernel_size=(3, 3), stride=(2, 2), padding=(1, 1), output_padding=(1, 1))\n",
       "      (1): ReLU()\n",
       "    )\n",
       "    (criterion): MSELoss()\n",
       "  )\n",
       ")"
      ]
     },
     "execution_count": 7,
     "metadata": {},
     "output_type": "execute_result"
    }
   ],
   "source": [
    "underfit_model"
   ]
  },
  {
   "cell_type": "code",
   "execution_count": 2,
   "metadata": {},
   "outputs": [],
   "source": [
    "dummy_input = torch.randn(32, 3, 256, 256)\n",
    "input_names = [\"actual_input\"]\n",
    "output_names = [\"encoder_output\", \"decoder_output\"]"
   ]
  },
  {
   "cell_type": "code",
   "execution_count": 3,
   "metadata": {},
   "outputs": [
    {
     "name": "stdout",
     "output_type": "stream",
     "text": [
      "================ Diagnostic Run torch.onnx.export version 2.0.1 ================\n",
      "verbose: False, log level: Level.ERROR\n",
      "======================= 0 NONE 0 NOTE 0 WARNING 0 ERROR ========================\n",
      "\n"
     ]
    }
   ],
   "source": [
    "torch.onnx.export(\n",
    "    proper_model,\n",
    "    dummy_input,\n",
    "    \"sdae_model_final.onnx\",\n",
    "    input_names=input_names,\n",
    "    output_names=output_names,\n",
    "    export_params=True,\n",
    ")"
   ]
  },
  {
   "cell_type": "code",
   "execution_count": 4,
   "metadata": {},
   "outputs": [
    {
     "name": "stdout",
     "output_type": "stream",
     "text": [
      "================ Diagnostic Run torch.onnx.export version 2.0.1 ================\n",
      "verbose: False, log level: Level.ERROR\n",
      "======================= 0 NONE 0 NOTE 0 WARNING 0 ERROR ========================\n",
      "\n"
     ]
    }
   ],
   "source": [
    "torch.onnx.export(\n",
    "    overfit_model,\n",
    "    dummy_input,\n",
    "    \"sdae_model_overfit.onnx\",\n",
    "    input_names=input_names,\n",
    "    output_names=output_names,\n",
    "    export_params=True,\n",
    ")"
   ]
  },
  {
   "cell_type": "code",
   "execution_count": 5,
   "metadata": {},
   "outputs": [
    {
     "name": "stdout",
     "output_type": "stream",
     "text": [
      "================ Diagnostic Run torch.onnx.export version 2.0.1 ================\n",
      "verbose: False, log level: Level.ERROR\n",
      "======================= 0 NONE 0 NOTE 0 WARNING 0 ERROR ========================\n",
      "\n"
     ]
    }
   ],
   "source": [
    "torch.onnx.export(\n",
    "    underfit_model,\n",
    "    dummy_input,\n",
    "    \"sdae_model_underfit.onnx\",\n",
    "    input_names=input_names,\n",
    "    output_names=output_names,\n",
    "    export_params=True,\n",
    ")"
   ]
  }
 ],
 "metadata": {
  "kernelspec": {
   "display_name": "pytorch-env",
   "language": "python",
   "name": "python3"
  },
  "language_info": {
   "codemirror_mode": {
    "name": "ipython",
    "version": 3
   },
   "file_extension": ".py",
   "mimetype": "text/x-python",
   "name": "python",
   "nbconvert_exporter": "python",
   "pygments_lexer": "ipython3",
   "version": "3.10.7"
  },
  "orig_nbformat": 4
 },
 "nbformat": 4,
 "nbformat_minor": 2
}
